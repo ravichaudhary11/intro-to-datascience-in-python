{
 "cells": [
  {
   "cell_type": "code",
   "execution_count": 6,
   "metadata": {},
   "outputs": [
    {
     "name": "stdout",
     "output_type": "stream",
     "text": [
      "unique_users = {'1', '3', '4', '5', '2'}\n",
      "5\n"
     ]
    }
   ],
   "source": [
    "f = open('/root/Documents/product_details','r')\n",
    "unique_users = set()\n",
    "x = f.readline()\n",
    "while(x!= ''):\n",
    "    tmp_list = x.split(\",\")\n",
    "    ID = tmp_list[0]\n",
    "    unique_users.add(ID)\n",
    "    x = f.readline()\n",
    "print(\"unique_users = %s\" %unique_users)\n",
    "print(len(unique_users))"
   ]
  },
  {
   "cell_type": "code",
   "execution_count": 2,
   "metadata": {},
   "outputs": [
    {
     "name": "stdout",
     "output_type": "stream",
     "text": [
      "user products diction = {'1': {'P1', 'P3', 'P2'}, '2': {'p2', 'P3', 'P2'}, '3': {'P2', 'P3'}, '4': {'P4'}, '5': {'p1', 'p2', 'P3'}}\n"
     ]
    }
   ],
   "source": [
    "f = open('/root/Documents/product_details','r')\n",
    "user_products = {}\n",
    "x = f.readline()\n",
    "while(x!=''):\n",
    "    tmp_list = x.strip().split(\",\")\n",
    "    ID,products = tmp_list[0],tmp_list[2]\n",
    "    if ID in user_products.keys():\n",
    "        set_products = user_products[ID]\n",
    "        set_products.add(products)\n",
    "        user_products[ID]=set_products\n",
    "    else:\n",
    "        set_products = set()\n",
    "        set_products.add(products)\n",
    "        user_products[ID] = set_products\n",
    "    x = f.readline()\n",
    "print(\"user products diction = %s\" %user_products)"
   ]
  },
  {
   "cell_type": "code",
   "execution_count": 3,
   "metadata": {},
   "outputs": [
    {
     "name": "stdout",
     "output_type": "stream",
     "text": [
      "1 : 3\n",
      "2 : 3\n",
      "3 : 2\n",
      "4 : 1\n",
      "5 : 3\n"
     ]
    }
   ],
   "source": [
    "for uid in user_products.keys():\n",
    "      print(uid , ':',len(user_products[uid]))"
   ]
  },
  {
   "cell_type": "code",
   "execution_count": 5,
   "metadata": {},
   "outputs": [
    {
     "name": "stdout",
     "output_type": "stream",
     "text": [
      "{'1': {'P1', 'P3', 'P2'}, '2': {'p2', 'P3', 'P2'}, '3': {'P2', 'P3'}, '4': {'P4'}, '5': {'p1', 'p2', 'P3'}}\n"
     ]
    }
   ],
   "source": [
    "f = open('/root/Documents/product_details','r')\n",
    "user_products ={}\n",
    "\n",
    "x= f.readline()\n",
    "while(x!=''):\n",
    "    tmp_list = x.strip().split(\",\")\n",
    "    ID,Product = tmp_list[0],tmp_list[2]\n",
    "    set_products = set()\n",
    "    try:\n",
    "        set_products = user_products[ID]\n",
    "    except KeyError:\n",
    "        set_products = set()\n",
    "    set_products.add(Product)\n",
    "    user_products[ID] = set_products\n",
    "    x= f.readline()\n",
    "print(user_products)"
   ]
  },
  {
   "cell_type": "code",
   "execution_count": 7,
   "metadata": {},
   "outputs": [
    {
     "name": "stdout",
     "output_type": "stream",
     "text": [
      "{'P1': 1, 'p2': 2, 'P3': 5, 'P2': 3, 'P4': 1, 'p1': 1}\n"
     ]
    }
   ],
   "source": [
    "f = open('/root/Documents/product_details','r')\n",
    "product_freq = {}\n",
    "lines = f.readlines()\n",
    "for line in lines:\n",
    "    tmp_list = line.strip().split(\",\")\n",
    "    product = tmp_list[2]\n",
    "    freq = 1\n",
    "    try:\n",
    "        freq = product_freq[product]+1\n",
    "    except KeyError:\n",
    "        pass\n",
    "    product_freq[product] = freq\n",
    "print(product_freq)"
   ]
  },
  {
   "cell_type": "code",
   "execution_count": 9,
   "metadata": {},
   "outputs": [
    {
     "name": "stdout",
     "output_type": "stream",
     "text": [
      "pythagoras triplet\n"
     ]
    }
   ],
   "source": [
    "num = [6,8,10]\n",
    "if(num[0]**2 == num[1]**2+num[2]**2 or num[1]**2 == num[0]**2+num[2]**2 or num[2]**2 == num[1]**2+num[0]**2):\n",
    "    print(\"pythagoras triplet\")\n",
    "else:\n",
    "    print('no pythagoras triplet')"
   ]
  },
  {
   "cell_type": "code",
   "execution_count": 11,
   "metadata": {},
   "outputs": [
    {
     "name": "stdout",
     "output_type": "stream",
     "text": [
      "pyhtagoras tripllet\n"
     ]
    }
   ],
   "source": [
    "nums = [3,4,5]\n",
    "h = max(nums)\n",
    "nums.remove(h)\n",
    "squares = map(lambda x:x**2,nums)\n",
    "others_squares = sum(squares)\n",
    "if(h**2 == others_squares):\n",
    "    print('pyhtagoras tripllet')\n",
    "else:\n",
    "    print('not pt')"
   ]
  },
  {
   "cell_type": "code",
   "execution_count": 12,
   "metadata": {},
   "outputs": [
    {
     "name": "stdout",
     "output_type": "stream",
     "text": [
      "[(3, 4, 5), (6, 8, 10)]\n"
     ]
    }
   ],
   "source": [
    "list_triplets = []\n",
    "list_triplets = [(i,j,k) for i in range(1,11) for j in range(i+1,11) for k in range(j+1,11) if(i**2+j**2 == k**2)]\n",
    "print(list_triplets)"
   ]
  },
  {
   "cell_type": "code",
   "execution_count": 13,
   "metadata": {},
   "outputs": [],
   "source": [
    "def add(x,y):\n",
    "    return x+y\n",
    "def sub(x,y):\n",
    "    return x-y\n",
    "def getfunc(x):\n",
    "    if(x == '+'):\n",
    "        return add\n",
    "    if(x == '-'):\n",
    "        return sub\n",
    "    "
   ]
  },
  {
   "cell_type": "code",
   "execution_count": 15,
   "metadata": {},
   "outputs": [],
   "source": [
    "f = getfunc('+')"
   ]
  },
  {
   "cell_type": "code",
   "execution_count": 16,
   "metadata": {},
   "outputs": [
    {
     "data": {
      "text/plain": [
       "30"
      ]
     },
     "execution_count": 16,
     "metadata": {},
     "output_type": "execute_result"
    }
   ],
   "source": [
    "f(10,20)"
   ]
  },
  {
   "cell_type": "code",
   "execution_count": 17,
   "metadata": {},
   "outputs": [],
   "source": [
    "class Name:\n",
    "    def get_age(self):\n",
    "        return self.age\n",
    "    def set_age(self,age):\n",
    "        self.age = age\n",
    "    \n",
    "        "
   ]
  },
  {
   "cell_type": "code",
   "execution_count": 19,
   "metadata": {
    "collapsed": true
   },
   "outputs": [],
   "source": [
    "object_1 = Name()"
   ]
  },
  {
   "cell_type": "code",
   "execution_count": 20,
   "metadata": {},
   "outputs": [],
   "source": [
    "object_1.set_age(10)"
   ]
  },
  {
   "cell_type": "code",
   "execution_count": 21,
   "metadata": {},
   "outputs": [
    {
     "data": {
      "text/plain": [
       "10"
      ]
     },
     "execution_count": 21,
     "metadata": {},
     "output_type": "execute_result"
    }
   ],
   "source": [
    "object_1.get_age()"
   ]
  },
  {
   "cell_type": "code",
   "execution_count": 24,
   "metadata": {},
   "outputs": [],
   "source": [
    "class Rectangle:\n",
    "    def __init__(self,length,breadth,unit_cost=0):\n",
    "        self.length = length\n",
    "        self.breadth  = breadth\n",
    "        self.unit_cost = unit_cost\n",
    "    def get_perimeter(self):\n",
    "        return 2*(self.length+self.breadth)\n",
    "    def get_area(self):\n",
    "        return self.length*self.breadth\n",
    "    def Calculate_cost(self):\n",
    "        area = self.get_area()\n",
    "        return area*self.unit_cost\n",
    "    "
   ]
  },
  {
   "cell_type": "code",
   "execution_count": null,
   "metadata": {},
   "outputs": [],
   "source": []
  },
  {
   "cell_type": "code",
   "execution_count": 25,
   "metadata": {},
   "outputs": [],
   "source": [
    "r= Rectangle(10,20,200)"
   ]
  },
  {
   "cell_type": "code",
   "execution_count": 29,
   "metadata": {},
   "outputs": [
    {
     "name": "stdout",
     "output_type": "stream",
     "text": [
      "200 60 40000\n"
     ]
    }
   ],
   "source": [
    "print(r.get_area(),r.get_perimeter(),r.Calculate_cost())"
   ]
  },
  {
   "cell_type": "code",
   "execution_count": 42,
   "metadata": {},
   "outputs": [],
   "source": [
    "class Employee:\n",
    "    def __init__(self,name = 'unknown',age = 0):\n",
    "        self.name = name\n",
    "        self.age = age\n",
    "    #def set_age(self,age):\n",
    "        #self.age = age\n",
    "    #def set_name(self,name):\n",
    "        #self.name = name\n",
    "    def get_age(self):\n",
    "        return self.age\n",
    "    def get_name(self):\n",
    "        return self.name\n",
    "    def __str__(self):\n",
    "        return ('name = %s,age = %d' %(self.name,self.age))\n",
    "        "
   ]
  },
  {
   "cell_type": "code",
   "execution_count": null,
   "metadata": {},
   "outputs": [],
   "source": []
  },
  {
   "cell_type": "code",
   "execution_count": null,
   "metadata": {},
   "outputs": [],
   "source": []
  },
  {
   "cell_type": "code",
   "execution_count": null,
   "metadata": {},
   "outputs": [],
   "source": []
  },
  {
   "cell_type": "code",
   "execution_count": 43,
   "metadata": {},
   "outputs": [],
   "source": [
    "obj1 = Employee(\"abc\",34)"
   ]
  },
  {
   "cell_type": "code",
   "execution_count": null,
   "metadata": {},
   "outputs": [],
   "source": []
  },
  {
   "cell_type": "code",
   "execution_count": 44,
   "metadata": {},
   "outputs": [
    {
     "name": "stdout",
     "output_type": "stream",
     "text": [
      "name = abc,age = 34\n"
     ]
    }
   ],
   "source": [
    "print(obj1)"
   ]
  },
  {
   "cell_type": "code",
   "execution_count": null,
   "metadata": {},
   "outputs": [],
   "source": []
  },
  {
   "cell_type": "code",
   "execution_count": null,
   "metadata": {},
   "outputs": [],
   "source": []
  },
  {
   "cell_type": "code",
   "execution_count": null,
   "metadata": {},
   "outputs": [],
   "source": []
  },
  {
   "cell_type": "code",
   "execution_count": null,
   "metadata": {},
   "outputs": [],
   "source": []
  },
  {
   "cell_type": "code",
   "execution_count": 38,
   "metadata": {},
   "outputs": [
    {
     "data": {
      "text/plain": [
       "34"
      ]
     },
     "execution_count": 38,
     "metadata": {},
     "output_type": "execute_result"
    }
   ],
   "source": [
    "obj1.get_age()"
   ]
  },
  {
   "cell_type": "code",
   "execution_count": null,
   "metadata": {},
   "outputs": [],
   "source": []
  },
  {
   "cell_type": "code",
   "execution_count": null,
   "metadata": {},
   "outputs": [],
   "source": []
  },
  {
   "cell_type": "code",
   "execution_count": null,
   "metadata": {},
   "outputs": [],
   "source": []
  },
  {
   "cell_type": "code",
   "execution_count": 45,
   "metadata": {},
   "outputs": [],
   "source": [
    "class Calc:\n",
    "    def add(self,x,y):\n",
    "        return x+y\n"
   ]
  },
  {
   "cell_type": "code",
   "execution_count": 46,
   "metadata": {},
   "outputs": [],
   "source": [
    "class Scicalc(Calc):\n",
    "    def square(self,x):\n",
    "        return x**2\n",
    "    "
   ]
  },
  {
   "cell_type": "code",
   "execution_count": 47,
   "metadata": {},
   "outputs": [],
   "source": [
    "calcobj = Calc()"
   ]
  },
  {
   "cell_type": "code",
   "execution_count": 48,
   "metadata": {},
   "outputs": [],
   "source": [
    "Scicalcob = Scicalc()"
   ]
  },
  {
   "cell_type": "code",
   "execution_count": 50,
   "metadata": {},
   "outputs": [
    {
     "data": {
      "text/plain": [
       "16"
      ]
     },
     "execution_count": 50,
     "metadata": {},
     "output_type": "execute_result"
    }
   ],
   "source": [
    "Scicalcob.square(4)"
   ]
  },
  {
   "cell_type": "code",
   "execution_count": null,
   "metadata": {},
   "outputs": [],
   "source": []
  },
  {
   "cell_type": "code",
   "execution_count": null,
   "metadata": {},
   "outputs": [],
   "source": []
  },
  {
   "cell_type": "code",
   "execution_count": null,
   "metadata": {},
   "outputs": [],
   "source": []
  },
  {
   "cell_type": "code",
   "execution_count": null,
   "metadata": {},
   "outputs": [],
   "source": []
  },
  {
   "cell_type": "code",
   "execution_count": null,
   "metadata": {},
   "outputs": [],
   "source": []
  },
  {
   "cell_type": "code",
   "execution_count": null,
   "metadata": {},
   "outputs": [],
   "source": []
  },
  {
   "cell_type": "code",
   "execution_count": null,
   "metadata": {},
   "outputs": [],
   "source": []
  },
  {
   "cell_type": "code",
   "execution_count": null,
   "metadata": {},
   "outputs": [],
   "source": []
  },
  {
   "cell_type": "code",
   "execution_count": null,
   "metadata": {},
   "outputs": [],
   "source": []
  },
  {
   "cell_type": "code",
   "execution_count": null,
   "metadata": {},
   "outputs": [],
   "source": []
  },
  {
   "cell_type": "code",
   "execution_count": null,
   "metadata": {},
   "outputs": [],
   "source": []
  },
  {
   "cell_type": "code",
   "execution_count": null,
   "metadata": {},
   "outputs": [],
   "source": []
  },
  {
   "cell_type": "code",
   "execution_count": null,
   "metadata": {},
   "outputs": [],
   "source": []
  },
  {
   "cell_type": "code",
   "execution_count": null,
   "metadata": {},
   "outputs": [],
   "source": []
  },
  {
   "cell_type": "code",
   "execution_count": null,
   "metadata": {},
   "outputs": [],
   "source": []
  },
  {
   "cell_type": "code",
   "execution_count": null,
   "metadata": {},
   "outputs": [],
   "source": []
  },
  {
   "cell_type": "code",
   "execution_count": null,
   "metadata": {},
   "outputs": [],
   "source": []
  },
  {
   "cell_type": "code",
   "execution_count": null,
   "metadata": {},
   "outputs": [],
   "source": []
  }
 ],
 "metadata": {
  "kernelspec": {
   "display_name": "Python 3",
   "language": "python",
   "name": "python3"
  },
  "language_info": {
   "codemirror_mode": {
    "name": "ipython",
    "version": 3
   },
   "file_extension": ".py",
   "mimetype": "text/x-python",
   "name": "python",
   "nbconvert_exporter": "python",
   "pygments_lexer": "ipython3",
   "version": "3.7.5rc1"
  }
 },
 "nbformat": 4,
 "nbformat_minor": 2
}
